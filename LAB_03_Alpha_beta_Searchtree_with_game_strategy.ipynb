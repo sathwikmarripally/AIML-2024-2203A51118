{
  "cells": [
    {
      "cell_type": "markdown",
      "metadata": {
        "id": "view-in-github",
        "colab_type": "text"
      },
      "source": [
        "<a href=\"https://colab.research.google.com/github/sathwikmarripally/AIML-2024-2203A51118/blob/main/LAB_03_Alpha_beta_Searchtree_with_game_strategy.ipynb\" target=\"_parent\"><img src=\"https://colab.research.google.com/assets/colab-badge.svg\" alt=\"Open In Colab\"/></a>"
      ]
    },
    {
      "cell_type": "code",
      "execution_count": 1,
      "id": "8f78081b-7977-4863-870c-a2bb8cf4e58c",
      "metadata": {
        "id": "8f78081b-7977-4863-870c-a2bb8cf4e58c"
      },
      "outputs": [],
      "source": [
        "#Implement AI Game strategy\n",
        "from collections import namedtuple,Counter,defaultdict\n",
        "import random\n",
        "import math\n",
        "import functools\n",
        "cache = functools.lru_cache(10**6)"
      ]
    },
    {
      "cell_type": "code",
      "execution_count": 2,
      "id": "bea3a226-0872-4b09-8a95-827b40485388",
      "metadata": {
        "id": "bea3a226-0872-4b09-8a95-827b40485388"
      },
      "outputs": [],
      "source": [
        "class Game:\n",
        "  def actions(self, state ):\n",
        "   '''Return a collection of the allowable moves from this state .'''\n",
        "   raise NotImplementedError\n",
        "  def result(self, state , move ):\n",
        "   raise NotImplementedError\n",
        "  def is_terminal(self, state ):\n",
        "   return not self.actions(state)\n",
        "  def utility(self, state , player ):\n",
        "   raise NotImplementedError"
      ]
    },
    {
      "cell_type": "code",
      "execution_count": 3,
      "id": "3ad65f07-270d-4fa9-b725-f95a3b2a4495",
      "metadata": {
        "id": "3ad65f07-270d-4fa9-b725-f95a3b2a4495"
      },
      "outputs": [],
      "source": [
        "def play_game (game , strategies : dict , verbose=False ):\n",
        "    '''Play a turn−taking game. ‘strategies ‘ is a {player name: function} dict ,\n",
        "    where function(state , game) is used to get the player ’s move.'''\n",
        "    state = game.initial\n",
        "    while not game.is_terminal(state):\n",
        "      player = state.to_move\n",
        "      move = strategies [player](game,state)\n",
        "      state = game.result(state,move)\n",
        "    if verbose:\n",
        "      print('Player', player,'move:',move)\n",
        "      print(state)\n",
        "      return state"
      ]
    },
    {
      "cell_type": "code",
      "execution_count": 4,
      "id": "8f3d4e56-ef73-4ec9-93c2-22ae5ec2dd17",
      "metadata": {
        "id": "8f3d4e56-ef73-4ec9-93c2-22ae5ec2dd17"
      },
      "outputs": [],
      "source": [
        "def minimax_search(game , state ):\n",
        "    '''Search game tree to determine best move; return (value , move) pair .'''\n",
        "    infinity = math.inf\n",
        "    player = state.to_move\n",
        "    def max_value(state):\n",
        "        if game.is_terminal (state):\n",
        "          return game.utility(state , player), None\n",
        "        v,move = -infinity, None\n",
        "        for a in game.actions(state ):\n",
        "            v2 -= min_value(game.result(state , a))\n",
        "            if v2 > v:\n",
        "                v, move = v2,a\n",
        "                return v, move\n",
        "    def min_value(state):\n",
        "        if game.is_terminal(state):\n",
        "            return game.utility(state,player),None\n",
        "        v, move = +infinity , None\n",
        "        for a in game.actions(state ):\n",
        "            v2 -= max_value(game.result(state,a))\n",
        "            if v2 < v:\n",
        "                v, move = v2, a\n",
        "                return v, move\n",
        "            return max_value(state)\n"
      ]
    },
    {
      "cell_type": "code",
      "execution_count": 5,
      "id": "5e55f098-1ae0-4c01-a381-cda0d2f20a77",
      "metadata": {
        "id": "5e55f098-1ae0-4c01-a381-cda0d2f20a77"
      },
      "outputs": [],
      "source": [
        "#Alpha beta Search\n",
        "def alphabeta_search(game , state ):\n",
        "    '''Search game to determine best action ; use alpha−beta pruning.\n",
        "    Search all the way to the leaves .'''\n",
        "    infinity = math.inf\n",
        "    player = state.to_move\n",
        "    def max_value(state , alpha , beta ):\n",
        "        if game.is_terminal (state ):\n",
        "            return game.utility(state , player), None\n",
        "        v,move = -infinity, None\n",
        "        for a in game.actions(state ):\n",
        "            v2 , = min_value(game.result(state , a), alpha , beta)\n",
        "            if v2 > v:\n",
        "                v, move = v2 , a\n",
        "                alpha = max(alpha , v)\n",
        "            if v >= beta:\n",
        "                return v, move\n",
        "                return v, move\n",
        "    def min_value(state , alpha , beta ):\n",
        "        if game.is_terminal(state ):\n",
        "            return game.utility(state , player), None\n",
        "        v, move = +infinity , None\n",
        "        for a in game.actions(state ):\n",
        "            v2 , = max_value(game.result(state , a), alpha , beta)\n",
        "            if v2 < v:\n",
        "                v, move = v2 , a\n",
        "                beta = min(beta , v)\n",
        "            if v <= alpha:\n",
        "                return v, move\n",
        "                return v, move\n",
        "    return max_value(state , -infinity , +infinity )"
      ]
    },
    {
      "cell_type": "code",
      "execution_count": 6,
      "id": "c29b353c-add8-4058-9391-103271c01f47",
      "metadata": {
        "id": "c29b353c-add8-4058-9391-103271c01f47"
      },
      "outputs": [],
      "source": [
        "class TicTacToe (Game ):\n",
        "  def  init(self, height =3, width =3, k=3):\n",
        "    self.k = k # k in a row\n",
        "    self.squares = {(x, y) for x in range(width) for y in range(height)}\n",
        "    self.initial = Board(height=height , width=width , to_move ='X', utility =0)\n",
        "  def actions(self, board ):\n",
        "    return self.squares - set(board)\n",
        "  def result(self, board , square ):\n",
        "    player = board. to_move\n",
        "    board = board.new({square: player}, to_move =('O' if player == 'X' else 'X'))\n",
        "    win = k in row (board , player , square , self.k)\n",
        "    board.utility = (0 if not win else +1 if player == 'X' else -1)\n",
        "    return board\n",
        "  def utility(self, board , player ):\n",
        "    return board.utility if player == 'X' else -board.utility\n",
        "  def is_terminal (self, board ):\n",
        "    return board.utility != 0 or len(self.squares) == len(board)\n",
        "  def display(self, board ):\n",
        "    print(board)\n",
        "  def k_in_row (board , player , square , k):\n",
        "    def in_row (x, y, dx , dy):\n",
        "        return 0 if board[x, y] != player else 1 + in_row (x + dx , y + dy , dx , dy)\n",
        "        return any(in_row(*square , dx , dy) + in_row(*square , -dx , -dy)-1>=k\n",
        "                  for (dx , dy) in ((0, 1), (1, 0), (1, 1), (1, -1)))"
      ]
    },
    {
      "cell_type": "code",
      "source": [
        "class Board( defaultdict ):\n",
        "  def init (self, width =8, height =8, to_move =None , **kwds ):\n",
        "    self. dict .update(width=width , height=height , to_move = to_move , **kwds)\n",
        "  def new(self, changes: dict , **kwds) -> 'Board':\n",
        "    board = Board(width=self.width , height=self.height , **kwds)\n",
        "    board.update(self)\n",
        "    board.update(changes)\n",
        "    return board\n",
        "  def missing (self, loc ):\n",
        "    x, y = loc\n",
        "    if 0 <= x < self.width and 0 <= y < self.height:\n",
        "      return self.empty\n",
        "    else:\n",
        "      return self.off\n",
        "  def hash (self):\n",
        "    return hash(tuple(sorted(self.items ()))) + hash(self. to_move )\n",
        "  def repr (self):\n",
        "    def row(y):\n",
        "       return ' '.join(self[x, y] for x in range(self.width ))\n",
        "    return '\\n'.join(map(row , range(self.height ))) + '\\n'"
      ],
      "metadata": {
        "id": "pBusZJO_6qtW"
      },
      "id": "pBusZJO_6qtW",
      "execution_count": 7,
      "outputs": []
    },
    {
      "cell_type": "code",
      "source": [
        "def random_player (game , state ):\n",
        "  return random.choice(list(game.actions(state )))\n",
        "def player( search_algorithm ):\n",
        "  return lambda game , state: search_algorithm (game , state )[1]"
      ],
      "metadata": {
        "id": "NyEoQyhX6skP"
      },
      "id": "NyEoQyhX6skP",
      "execution_count": 8,
      "outputs": []
    }
  ],
  "metadata": {
    "kernelspec": {
      "display_name": "Python 3 (ipykernel)",
      "language": "python",
      "name": "python3"
    },
    "language_info": {
      "codemirror_mode": {
        "name": "ipython",
        "version": 3
      },
      "file_extension": ".py",
      "mimetype": "text/x-python",
      "name": "python",
      "nbconvert_exporter": "python",
      "pygments_lexer": "ipython3",
      "version": "3.11.2"
    },
    "colab": {
      "provenance": [],
      "include_colab_link": true
    }
  },
  "nbformat": 4,
  "nbformat_minor": 5
}