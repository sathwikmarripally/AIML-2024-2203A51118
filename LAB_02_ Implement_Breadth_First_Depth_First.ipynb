{
  "cells": [
    {
      "cell_type": "markdown",
      "metadata": {
        "id": "view-in-github",
        "colab_type": "text"
      },
      "source": [
        "<a href=\"https://colab.research.google.com/github/sathwikmarripally/AIML-2024-2203A51118/blob/main/LAB_02_%20Implement_Breadth_First_Depth_First.ipynb\" target=\"_parent\"><img src=\"https://colab.research.google.com/assets/colab-badge.svg\" alt=\"Open In Colab\"/></a>"
      ]
    },
    {
      "cell_type": "code",
      "execution_count": 1,
      "id": "3b3cda4e-1905-499c-98cc-adf399cf35b5",
      "metadata": {
        "id": "3b3cda4e-1905-499c-98cc-adf399cf35b5"
      },
      "outputs": [],
      "source": [
        "import numpy as np"
      ]
    },
    {
      "cell_type": "code",
      "execution_count": 2,
      "id": "acbd1504-e342-4bc0-86d5-7dd1e3d13b0c",
      "metadata": {
        "colab": {
          "base_uri": "https://localhost:8080/"
        },
        "id": "acbd1504-e342-4bc0-86d5-7dd1e3d13b0c",
        "outputId": "17d57606-5af9-4873-c4da-932eac984d5e"
      },
      "outputs": [
        {
          "output_type": "stream",
          "name": "stdout",
          "text": [
            "The adjacency List representing the graph is :\n",
            "{0: [1, 3], 1: [0, 2, 3], 2: [4, 1, 5], 3: [4, 0, 1], 4: [2, 3, 5], 5: [4, 2], 6: []}\n"
          ]
        }
      ],
      "source": [
        "#implenment BFS\n",
        "from queue import Queue\n",
        "\n",
        "b_graph = {0:[1,3], 1:[0,2,3], 2:[4,1,5],\n",
        "         3:[4,0,1], 4:[2,3,5], 5:[4,2], 6:[]}\n",
        "print(\"The adjacency List representing the graph is :\")\n",
        "print(b_graph)"
      ]
    },
    {
      "cell_type": "code",
      "execution_count": 3,
      "id": "7316167f-ccdc-4cb7-bc18-546e05f5fded",
      "metadata": {
        "colab": {
          "base_uri": "https://localhost:8080/"
        },
        "id": "7316167f-ccdc-4cb7-bc18-546e05f5fded",
        "outputId": "675ae277-c7ea-4108-a476-d7891b20ab9f"
      },
      "outputs": [
        {
          "output_type": "stream",
          "name": "stdout",
          "text": [
            "BFS traversal of graph with source 0 is :\n",
            "0-->1-->3-->2-->4-->5-->"
          ]
        }
      ],
      "source": [
        "def bfs(b_graph, source):\n",
        "    #source_in = int(input(\"Enter source(1-5) : \"))\n",
        "    Q = Queue()\n",
        "    visited_vertices = set()\n",
        "    Q.put(source)\n",
        "    visited_vertices.update({0})\n",
        "    while not Q.empty():\n",
        "        vertex = Q.get()\n",
        "        print(vertex, end=\"-->\")\n",
        "        for u in b_graph[vertex]:\n",
        "            if u not in visited_vertices:\n",
        "                Q.put(u)\n",
        "                visited_vertices.update({u})\n",
        "\n",
        "print(f\"BFS traversal of graph with source 0 is :\")\n",
        "bfs(b_graph,0)"
      ]
    },
    {
      "cell_type": "code",
      "execution_count": 4,
      "id": "72b1d670-b870-4fe7-b39c-2e71e140e11a",
      "metadata": {
        "colab": {
          "base_uri": "https://localhost:8080/"
        },
        "id": "72b1d670-b870-4fe7-b39c-2e71e140e11a",
        "outputId": "e8318b51-0def-46f0-dc3c-07224fdaa69f"
      },
      "outputs": [
        {
          "output_type": "stream",
          "name": "stdout",
          "text": [
            "{'A': ['B', 'S'], 'B': ['A'], 'C': ['D', 'E', 'F', 'S'], 'D': ['C'], 'E': ['C', 'H'], 'F': ['C', 'G'], 'G': ['F', 'S', 'H'], 'H': ['E', 'G'], 'S': ['A', 'C', 'G']}\n"
          ]
        }
      ],
      "source": [
        "#implement DFS\n",
        "d_graph = {\n",
        "          'A' : ['B','S'],\n",
        "          'B' : ['A'],\n",
        "          'C' : ['D','E','F','S'],\n",
        "          'D' : ['C'],\n",
        "          'E' : ['C','H'],\n",
        "          'F' : ['C','G'],\n",
        "          'G' : ['F','S','H'],\n",
        "          'H' : ['E','G'],\n",
        "          'S' : ['A','C','G']\n",
        "}\n",
        "print(d_graph)"
      ]
    },
    {
      "cell_type": "code",
      "execution_count": 5,
      "id": "7daebe07-2e5f-46b4-982d-57bd85716ea0",
      "metadata": {
        "colab": {
          "base_uri": "https://localhost:8080/"
        },
        "id": "7daebe07-2e5f-46b4-982d-57bd85716ea0",
        "outputId": "0abffafc-2ab3-4d9e-c25e-5d718b44652d"
      },
      "outputs": [
        {
          "output_type": "stream",
          "name": "stdout",
          "text": [
            "['D', 'C', 'E', 'H', 'G', 'F', 'S', 'A', 'B']\n"
          ]
        }
      ],
      "source": [
        "def dfs(graph,node,visited):\n",
        "    if node not in visited:\n",
        "        visited.append(node)\n",
        "        for k in graph[node]:\n",
        "            dfs(graph,k,visited)\n",
        "    return visited\n",
        "\n",
        "visited = dfs(d_graph,'D', [])\n",
        "print(visited)"
      ]
    },
    {
      "cell_type": "code",
      "source": [
        "#from stack import Stack\n",
        "graphs={'a':['b','s'],'b':['a'],'c':['s','e','f','d'],'d':['c','e'],'e':['h','c'],'f':['c','g'],'g':['s','f','h'],'h':['e','g'],'s':['a','c','g']}\n",
        "print(f'the adjacency list is representing the graph {graphs}')#from stack import Stack\n",
        "graphs={'a':['b','s'],'b':['a'],'c':['s','e','f','d'],'d':['c','e'],'e':['h','c'],'f':['c','g'],'g':['s','f','h'],'h':['e','g'],'s':['a','c','g']}\n",
        "print(f'the adjacency list is representing the graph {graphs}')"
      ],
      "metadata": {
        "colab": {
          "base_uri": "https://localhost:8080/"
        },
        "id": "yNUOEzuh4vSh",
        "outputId": "8d048ab3-7d9d-429c-f17c-40bd59ecdaa4"
      },
      "id": "yNUOEzuh4vSh",
      "execution_count": 6,
      "outputs": [
        {
          "output_type": "stream",
          "name": "stdout",
          "text": [
            "the adjacency list is representing the graph {'a': ['b', 's'], 'b': ['a'], 'c': ['s', 'e', 'f', 'd'], 'd': ['c', 'e'], 'e': ['h', 'c'], 'f': ['c', 'g'], 'g': ['s', 'f', 'h'], 'h': ['e', 'g'], 's': ['a', 'c', 'g']}\n",
            "the adjacency list is representing the graph {'a': ['b', 's'], 'b': ['a'], 'c': ['s', 'e', 'f', 'd'], 'd': ['c', 'e'], 'e': ['h', 'c'], 'f': ['c', 'g'], 'g': ['s', 'f', 'h'], 'h': ['e', 'g'], 's': ['a', 'c', 'g']}\n"
          ]
        }
      ]
    }
  ],
  "metadata": {
    "kernelspec": {
      "display_name": "Python 3 (ipykernel)",
      "language": "python",
      "name": "python3"
    },
    "language_info": {
      "codemirror_mode": {
        "name": "ipython",
        "version": 3
      },
      "file_extension": ".py",
      "mimetype": "text/x-python",
      "name": "python",
      "nbconvert_exporter": "python",
      "pygments_lexer": "ipython3",
      "version": "3.11.2"
    },
    "colab": {
      "provenance": [],
      "include_colab_link": true
    }
  },
  "nbformat": 4,
  "nbformat_minor": 5
}